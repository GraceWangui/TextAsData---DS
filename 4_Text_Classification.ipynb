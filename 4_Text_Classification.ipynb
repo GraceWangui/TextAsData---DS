{
  "cells": [
    {
      "cell_type": "markdown",
      "metadata": {
        "id": "PKluMul19CYb"
      },
      "source": [
        "# Text as Data Project 4: Text Classification\n",
        "\n",
        "In this week's Project, I'll explore basic concepts for building and evaluating a classifier.\n",
        "\n",
        "The aims of this Project are:\n",
        "- Building a classifier for a binary classification problem\n",
        "- Evaluating a classifier with various metrics\n",
        "- Learning about the uses of the training, validation and test sets\n",
        "\n",
        "This Project will make use of the [scikit-learn](https://scikit-learn.org) library. This Project won't give you the code directly but will point you towards the documentation for the function to use. **Each scikit-learn function comes with example code in its documentation.** The Project also does not use `labtest` this time but will provide expected answers."
      ]
    },
    {
      "cell_type": "markdown",
      "metadata": {
        "id": "Kom0SDPdqKCQ"
      },
      "source": [
        "**Before you start, save a copy of this Project to your drive using \"File > Save a Copy in Drive\".** If you skip this step, you may lose progress that you have made (e.g., if you close the browser tab or your computer crashes)."
      ]
    },
    {
      "cell_type": "markdown",
      "metadata": {
        "id": "diBXcft9qmwR"
      },
      "source": [
        "## The Task: Identifying Clinical Trials\n",
        "\n",
        "[Clinical trials](https://en.wikipedia.org/wiki/Clinical_trial) test out new treatments for diseases and their results are generally reported in published research articles. Identifying that a paper is talking about a clinical trial is an important step towards gathering all these results together for further analysis.\n",
        "\n",
        "I'll be looking at the problem of identifying if a biomedical research article is discussing the results of a [clinical trial](https://en.wikipedia.org/wiki/Clinical_trial). Biomedical research articles are indexed in a huge database called [PubMed](https://pubmed.ncbi.nlm.nih.gov/). It tracks the titles & abstracts of almost all biomedical publications along with various other bits of metadata."
      ]
    },
    {
      "cell_type": "markdown",
      "metadata": {
        "id": "na9QqFaf9SN5"
      },
      "source": [
        "## Loading the text classification data\n",
        "\n",
        "\n",
        "\n",
        "Here is  small subset of these articles that focus on [asthma](https://en.wikipedia.org/wiki/Asthma). Some of the articles are reporting on clinical trials and others are not.\n",
        "\n",
        " download it:"
      ]
    },
    {
      "cell_type": "code",
      "execution_count": null,
      "metadata": {
        "colab": {
          "base_uri": "https://localhost:8080/"
        },
        "id": "CTVB3fVFkFdU",
        "outputId": "643724b7-bbfd-45fd-9a0e-fe8cf8ad35b9"
      },
      "outputs": [
        {
          "name": "stdout",
          "output_type": "stream",
          "text": [
            "--2025-02-09 13:50:54--  https://gla-my.sharepoint.com/:u:/g/personal/jake_lever_glasgow_ac_uk/ERJRy93FbypJm4mawO79wwgB1bt9uvuvHQs5gtKRkzXyHg?download=1\n",
            "Resolving gla-my.sharepoint.com (gla-my.sharepoint.com)... 13.107.136.10, 13.107.138.10, 2620:1ec:8f8::10, ...\n",
            "Connecting to gla-my.sharepoint.com (gla-my.sharepoint.com)|13.107.136.10|:443... connected.\n",
            "HTTP request sent, awaiting response... 302 Found\n",
            "Location: https://gla-my.sharepoint.com/personal/jake_lever_glasgow_ac_uk/_layouts/15/download.aspx?UniqueId=ddcb51126fc5492a9b899ac0eefdc308 [following]\n",
            "--2025-02-09 13:50:55--  https://gla-my.sharepoint.com/personal/jake_lever_glasgow_ac_uk/_layouts/15/download.aspx?UniqueId=ddcb51126fc5492a9b899ac0eefdc308\n",
            "Reusing existing connection to gla-my.sharepoint.com:443.\n",
            "HTTP request sent, awaiting response... 200 OK\n",
            "Length: 1675650 (1.6M) [application/json]\n",
            "Saving to: ‘asthma_dataset.json’\n",
            "\n",
            "asthma_dataset.json 100%[===================>]   1.60M  2.60MB/s    in 0.6s    \n",
            "\n",
            "2025-02-09 13:50:55 (2.60 MB/s) - ‘asthma_dataset.json’ saved [1675650/1675650]\n",
            "\n"
          ]
        }
      ],
      "source": [
        "!wget -O asthma_dataset.json https://gla-my.sharepoint.com/:u:/g/personal/jake_lever_glasgow_ac_uk/ERJRy93FbypJm4mawO79wwgB1bt9uvuvHQs5gtKRkzXyHg?download=1"
      ]
    },
    {
      "cell_type": "markdown",
      "metadata": {
        "id": "X_CmIQOJBBSE"
      },
      "source": [
        "It's a JSON file. I can use the Unix `head` command to look inside the file. As the file is nicely formatted, I can see that it is a set of records with four fields: `is_clinical_trial`, `pubmed_id`, `title` and `abstract`."
      ]
    },
    {
      "cell_type": "code",
      "execution_count": null,
      "metadata": {
        "colab": {
          "base_uri": "https://localhost:8080/"
        },
        "id": "3F7YxdM-kPx6",
        "outputId": "db20597d-b72e-4d9d-b65c-4837642098b3"
      },
      "outputs": [
        {
          "name": "stdout",
          "output_type": "stream",
          "text": [
            "[\n",
            "  {\n",
            "    \"is_clinical_trial\": true,\n",
            "    \"pubmed_id\": 346628,\n",
            "    \"title\": \"Immunotherapy in cat-induced asthma. Double-blind trial with evaluation of bronchial responses to cat allergen and histamine.\",\n",
            "    \"abstract\": \"Ten asymptomatic patients with normal pulmonary function were selected for a double-blind trial of immunotherapy in cat-induced asthma. Each patient had a positive prick test to cat pelt extract and also a positive bronchial challenge response to the same extract. Patients were randomly assigned to active treatment or placebo groups and received weekly or biweekly injections over a 3 to 4-month period. The 5 patients who received the active treatment received a cumulative dose of cat pelt extract that ranged from 16.4 to 44.8 mg of total solid containing 1.7 to 4.7 mg of cat allergen 1. Apparent systemic reactions were observed in 3 patients who received the placebo and 3 patients who received the active treatment. The 5 patients who received the active treatment showed a reduction in skin reactivity to cat pelt extract as well as a significant mean reduction in bronchial sensitivity to the same extract. The 5 patients who received the placebo showed no significant changes in skin reactivity or bronchial sensitivity to cat pelt extract. Bronchial response to histamine did not change significantly in either the active treatment of the placebo group.\"\n",
            "  },\n",
            "  {\n",
            "    \"is_clinical_trial\": false,\n",
            "    \"pubmed_id\": 27455824,\n"
          ]
        }
      ],
      "source": [
        "!head asthma_dataset.json"
      ]
    },
    {
      "cell_type": "markdown",
      "metadata": {
        "id": "tJZoj_MG9uKL"
      },
      "source": [
        "### Exploring the data\n",
        "\n",
        " get this data loaded and start looking at it.\n",
        "\n",
        "**Exercise:** Load the `asthma_dataset.json` into a variable called `documents` and check how many documents are in the dataset."
      ]
    },
    {
      "cell_type": "code",
      "execution_count": null,
      "metadata": {
        "colab": {
          "base_uri": "https://localhost:8080/"
        },
        "id": "Mtvpy7ydkZld",
        "outputId": "b3488783-5708-4fcb-cf05-42cb40f58ed1"
      },
      "outputs": [
        {
          "data": {
            "text/plain": [
              "1021"
            ]
          },
          "execution_count": 3,
          "metadata": {},
          "output_type": "execute_result"
        }
      ],
      "source": [
        "# ANSWER\n",
        "\n",
        "import json\n",
        "with open('asthma_dataset.json') as f:\n",
        "  documents = json.load(f)\n",
        "\n",
        "len(documents)"
      ]
    },
    {
      "cell_type": "markdown",
      "metadata": {
        "id": "wjv_YnSxBsMs"
      },
      "source": [
        " there are 1021 documents.\n",
        "\n",
        " take a look at the first couple of documents. The first document is a clinical trial and even mentions it in the title. The second article is about asthma but is about the cost of treatment. Could the word `trial` be enough to identify papers talking about clinical trials?"
      ]
    },
    {
      "cell_type": "code",
      "execution_count": null,
      "metadata": {
        "colab": {
          "base_uri": "https://localhost:8080/"
        },
        "id": "6vlqhig9BrcP",
        "outputId": "c61f3e26-ea78-4f32-c133-b5755e12875a"
      },
      "outputs": [
        {
          "data": {
            "text/plain": [
              "[{'is_clinical_trial': True,\n",
              "  'pubmed_id': 346628,\n",
              "  'title': 'Immunotherapy in cat-induced asthma. Double-blind trial with evaluation of bronchial responses to cat allergen and histamine.',\n",
              "  'abstract': 'Ten asymptomatic patients with normal pulmonary function were selected for a double-blind trial of immunotherapy in cat-induced asthma. Each patient had a positive prick test to cat pelt extract and also a positive bronchial challenge response to the same extract. Patients were randomly assigned to active treatment or placebo groups and received weekly or biweekly injections over a 3 to 4-month period. The 5 patients who received the active treatment received a cumulative dose of cat pelt extract that ranged from 16.4 to 44.8 mg of total solid containing 1.7 to 4.7 mg of cat allergen 1. Apparent systemic reactions were observed in 3 patients who received the placebo and 3 patients who received the active treatment. The 5 patients who received the active treatment showed a reduction in skin reactivity to cat pelt extract as well as a significant mean reduction in bronchial sensitivity to the same extract. The 5 patients who received the placebo showed no significant changes in skin reactivity or bronchial sensitivity to cat pelt extract. Bronchial response to histamine did not change significantly in either the active treatment of the placebo group.'},\n",
              " {'is_clinical_trial': False,\n",
              "  'pubmed_id': 27455824,\n",
              "  'title': 'The Cost of Asthma Treatment in Phramongkutlao Hospital: Population-Based Study in Adults.',\n",
              "  'abstract': \"Asthma is a chronic respiratory disease that affects patients' quality of life and work performance. The cost of asthma treatment is a global economic burden. The costs include the direct medical costs and the indirect costs, such as the loss of productivity, which is difficult to quantify. Analyze the cost of asthma treatment in Thailand. Seventy-four asthmatic patients who had exacerbation were enrolled in the present study. Self-answer questionnaires were completed by the subjects including characteristics, socioeconomic factors, and level of asthma control by asthma control test (ACT) score. We evaluated the cost of asthma treatment calculated from direct medical, direct non-medical, and indirect medical costs. The average total cost per month was 2,752 Thai baht (US$ 86). The direct medical, direct non-medical, and indirect medical costs were 52.39%, 20.73%, and 26.88%, respectively. The direct medical costs accounted for quick-relief medications 11.91% and control medications 36.85% of the total medical cost. Loss of productivity, loss of work caused by asthma exacerbation, was the majority cost of non-medical costs. The average cost of treatment in uncontrolled was higher than partly controlled asthmatic patients but without significant difference. Healthcare payment system and age range affected the total costs of asthma treatment. The direct non-medical costs and indirect medical costs tend to play an important role of asthma treatment. The data suggested that cost savings could be achieved by improving asthma control.\"}]"
            ]
          },
          "execution_count": 4,
          "metadata": {},
          "output_type": "execute_result"
        }
      ],
      "source": [
        "documents[:2]"
      ]
    },
    {
      "cell_type": "markdown",
      "metadata": {
        "id": "phJTr7BBCPaM"
      },
      "source": [
        "It's a good idea to dig around in the data to see if there are any oddities. Maybe some documents are missing titles or abstracts? Or could there be whole documents in there? It's always good to know these things.\n",
        "\n",
        "**Exercise:** Find out the minimum and maximum lengths of the `abstract` field across all the documents"
      ]
    },
    {
      "cell_type": "code",
      "execution_count": null,
      "metadata": {
        "colab": {
          "base_uri": "https://localhost:8080/"
        },
        "id": "p_fJbPAjoYAD",
        "outputId": "5fac5614-0485-4b2c-cbeb-668b8ec3ef83"
      },
      "outputs": [
        {
          "name": "stdout",
          "output_type": "stream",
          "text": [
            "min= 161\n",
            "max= 4140\n"
          ]
        }
      ],
      "source": [
        "# ANSWER\n",
        "\n",
        "print('min=', min( len(doc['abstract']) for doc in documents ))\n",
        "print('max=', max( len(doc['abstract']) for doc in documents ))"
      ]
    },
    {
      "cell_type": "markdown",
      "metadata": {
        "id": "ApxoZUl6owmD"
      },
      "source": [
        "minimum length is 161 characters and maximum is 4140 characters. That's quite a spread. From a tweet up to a short essay.\n",
        "\n",
        "Now it's time to prepare the data for the classification task.  create two lists to separate the target labels (`is_clinical_trial`) from the text field that I'll use. The two lists are called `labels` and `texts`. I'll combine the `title` and `abstract` field like I did for the Reddit data in previous Projects."
      ]
    },
    {
      "cell_type": "code",
      "execution_count": null,
      "metadata": {
        "id": "FYZ-XQq45Hdy"
      },
      "outputs": [],
      "source": [
        "labels, texts = [], []\n",
        "\n",
        "for doc in documents:\n",
        "  labels.append(doc['is_clinical_trial'])\n",
        "  texts.append(doc['title'] + '\\n' + doc['abstract'])"
      ]
    },
    {
      "cell_type": "markdown",
      "metadata": {
        "id": "JVgCXsGVEmxc"
      },
      "source": [
        "And  check what the distribution of labels is:"
      ]
    },
    {
      "cell_type": "code",
      "execution_count": null,
      "metadata": {
        "colab": {
          "base_uri": "https://localhost:8080/"
        },
        "id": "hoKl9A3u5anb",
        "outputId": "ed02de4a-dd7f-4fa4-8abb-725b1511a790"
      },
      "outputs": [
        {
          "data": {
            "text/plain": [
              "Counter({True: 327, False: 694})"
            ]
          },
          "execution_count": 7,
          "metadata": {},
          "output_type": "execute_result"
        }
      ],
      "source": [
        "from collections import Counter\n",
        "Counter(labels)"
      ]
    },
    {
      "cell_type": "markdown",
      "metadata": {
        "id": "E4S4dXVqozsK"
      },
      "source": [
        "there are 327 True labels and 694 False labels."
      ]
    },
    {
      "cell_type": "markdown",
      "metadata": {
        "id": "pTcbSuqq-Ifk"
      },
      "source": [
        "### Split the data into training, validation and testing datasets\n",
        "\n",
        "As discussed in the lecture, I need to split the dataset into parts to train and parts to evaluate. This is known as **cross-validation**.  split our dataset of 1021 `labels` and `texts` into training, validation and test splits.\n",
        "\n",
        "**Exercise:** Use scikit-learn's [train_test_split](https://scikit-learn.org/stable/modules/generated/sklearn.model_selection.train_test_split.html) function to split the dataset into three parts using a 60%/20%/20% split for training, validation and testing respectively. You'll need to call [train_test_split](https://scikit-learn.org/stable/modules/generated/sklearn.model_selection.train_test_split.html) twice. First to split the `labels` and `texts` into 80%/20% to get the train+val and the test set. Then call it again on the train+val with a 75%/25% split. You'll want to use the `test_size` parameter and use `random_state=42` to get the same results as everyone else.\n",
        "\n",
        "The six outputs should be called `texts_train`, `labels_train`, `texts_val`, `labels_val`, `texts_test` and `labels_test`."
      ]
    },
    {
      "cell_type": "code",
      "execution_count": null,
      "metadata": {
        "id": "SgwBYpyY5d4R"
      },
      "outputs": [],
      "source": [
        "# ANSWER\n",
        "\n",
        "from sklearn.model_selection import train_test_split\n",
        "\n",
        "texts_train, texts_test, labels_train, labels_test = train_test_split(texts, labels, test_size=0.2, random_state=42)\n",
        "texts_train, texts_val, labels_train, labels_val = train_test_split(texts_train, labels_train, test_size=0.25, random_state=42)"
      ]
    },
    {
      "cell_type": "markdown",
      "metadata": {
        "id": "aBVWmnHTHMvc"
      },
      "source": [
        " check the size of the different parts after the split."
      ]
    },
    {
      "cell_type": "code",
      "execution_count": null,
      "metadata": {
        "colab": {
          "base_uri": "https://localhost:8080/"
        },
        "id": "qfzmep9hFURl",
        "outputId": "51f65e49-19ae-4ea1-8f2f-f8d0687a3d52"
      },
      "outputs": [
        {
          "name": "stdout",
          "output_type": "stream",
          "text": [
            "len(texts_train)=612\tlen(labels_train)=612\n",
            "len(texts_val)=204\tlen(labels_val)=204\n",
            "len(texts_test)=205\tlen(labels_test)=205\n"
          ]
        }
      ],
      "source": [
        "print(f\"{len(texts_train)=}\\t{len(labels_train)=}\")\n",
        "print(f\"{len(texts_val)=}\\t{len(labels_val)=}\")\n",
        "print(f\"{len(texts_test)=}\\t{len(labels_test)=}\")"
      ]
    },
    {
      "cell_type": "markdown",
      "metadata": {
        "id": "iDOP3za-HWK_"
      },
      "source": [
        "the dataset has been split into parts with sizes 612, 204 and 205. And that the corresponding `texts_*` and `labels_*` parts are the same sizes.\n",
        "\n",
        "And  check if I got the desired 60%/20%/20% split."
      ]
    },
    {
      "cell_type": "code",
      "execution_count": null,
      "metadata": {
        "colab": {
          "base_uri": "https://localhost:8080/"
        },
        "id": "cBJn1MRj5ltO",
        "outputId": "72ddf63a-0c02-435e-e03f-c667cb999656"
      },
      "outputs": [
        {
          "data": {
            "text/plain": [
              "(0.5994123408423114, 0.19980411361410383, 0.2007835455435847)"
            ]
          },
          "execution_count": 10,
          "metadata": {},
          "output_type": "execute_result"
        }
      ],
      "source": [
        "total = len(texts_train) + len(texts_val) + len(texts_test)\n",
        "len(texts_train)/total, len(texts_val)/total, len(texts_test)/total"
      ]
    },
    {
      "cell_type": "markdown",
      "metadata": {
        "id": "y1OTco3fHmfn"
      },
      "source": [
        "Yep, that's probably as close as I could get to 60%/20%/20% when splitting up 1021 documents."
      ]
    },
    {
      "cell_type": "markdown",
      "metadata": {
        "id": "xTzGM_W8-Npg"
      },
      "source": [
        "### Why training, validation and testing?\n",
        "\n",
        "As mentioned in the lectures, I want part of the data to build a classifier and part to evaluate with. So why not just training and test? Using a validation set allows us to try a lot more experiments to test out different approaches without the worry that I're overfitting on the test set.\n",
        "\n",
        "Good practice is to avoid touching the test set until your final set of experiments. I'll forget about the test data until the end of the Project and use the training and validation splits for now."
      ]
    },
    {
      "cell_type": "markdown",
      "metadata": {
        "id": "BDOKzmlN-e-q"
      },
      "source": [
        "## Build your own classifier\n",
        "\n",
        "Earlier, I noticed that the word \"trial\" appeared in the first document talking about clinical trials. Maybe the existence of the word \"trial\" would be enough to identify clinical trials?\n",
        "\n",
        "**Exercise:** Iterate over the validation set `texts_val` and check if the string \"trial\" appears in each text. Save the prediction (which should be `True` or `False`) to a list called `labels_predicted`. You do not need to do any parsing. You can use the string [count](https://www.w3schools.com/python/ref_string_count.asp) method."
      ]
    },
    {
      "cell_type": "code",
      "execution_count": null,
      "metadata": {
        "id": "j3MFjti7-hc0"
      },
      "outputs": [],
      "source": [
        "# ANSWER\n",
        "\n",
        "labels_predicted = []\n",
        "for text in texts_val:\n",
        "  if text.count('trial') > 0:\n",
        "    labels_predicted.append(True)\n",
        "  else:\n",
        "    labels_predicted.append(False)"
      ]
    },
    {
      "cell_type": "markdown",
      "metadata": {
        "id": "ZsgYanW7I2OH"
      },
      "source": [
        " check how many predictions of each label I have using a `Counter`:"
      ]
    },
    {
      "cell_type": "code",
      "execution_count": null,
      "metadata": {
        "colab": {
          "base_uri": "https://localhost:8080/"
        },
        "id": "hk7hfs73IQjl",
        "outputId": "c7ae04b6-2262-42ca-d27f-0b983bc31a1b"
      },
      "outputs": [
        {
          "data": {
            "text/plain": [
              "Counter({False: 176, True: 28})"
            ]
          },
          "execution_count": 12,
          "metadata": {},
          "output_type": "execute_result"
        }
      ],
      "source": [
        "Counter(labels_predicted)"
      ]
    },
    {
      "cell_type": "markdown",
      "metadata": {
        "id": "-7749fmsI5R2"
      },
      "source": [
        "have 176 False predictions and 28 True Predictions (totalling 204 for the size of the validation set).\n",
        "\n",
        "**Congratulations!** You have written a machine learning classifier. It may be a simple rule-based approach but sometimes simple is all you need. This type of classifier is known as a [decision stump](https://en.wikipedia.org/wiki/Decision_stump) where a single decision is used to classify the data.\n",
        "\n",
        "But is it any good?"
      ]
    },
    {
      "cell_type": "markdown",
      "metadata": {
        "id": "ufZOZTLl--A3"
      },
      "source": [
        "#### Evaluate your own classifier\n",
        "\n",
        "Now  compare our predictions `labels_predicted` against the actual labels `labels_val`. I'll need the four numbers that make up a [confusion matrix](https://en.wikipedia.org/wiki/Confusion_matrix) for a binary classification problem:\n",
        "\n",
        "- True positive count: Where the actual label is True and predicted label is True\n",
        "- False positive count: Where the actual label is False and predicted label is True\n",
        "- False negative count: Where the actual label is True and predicted label is False\n",
        "- True negative count: Where the actual label is False and predicted label is False\n",
        "\n",
        "**Exercise:** Calculate the counts of true positives, false positives, false negatives and true negatives when comparing `labels_predicted` and `labels_val`.\n",
        "\n",
        "*Tip:* Python's [zip function](https://docs.python.org/3.3/library/functions.html#zip) is useful for this."
      ]
    },
    {
      "cell_type": "code",
      "execution_count": null,
      "metadata": {
        "colab": {
          "base_uri": "https://localhost:8080/"
        },
        "id": "gRlfA_0i_HNx",
        "outputId": "3cbc9e02-7d85-4d19-b921-135ba63793be"
      },
      "outputs": [
        {
          "data": {
            "text/plain": [
              "(20, 8, 52, 124)"
            ]
          },
          "execution_count": 13,
          "metadata": {},
          "output_type": "execute_result"
        }
      ],
      "source": [
        "# ANSWER\n",
        "\n",
        "tp_count, fn_count, fp_count, tn_count = 0, 0, 0, 0\n",
        "for actual,pred in zip(labels_val, labels_predicted):\n",
        "  if actual == True and pred == True:\n",
        "    tp_count += 1\n",
        "  elif actual == False and pred == True:\n",
        "    fp_count += 1\n",
        "  elif actual == True and pred == False:\n",
        "    fn_count += 1\n",
        "  elif actual == False and pred == False:\n",
        "    tn_count += 1\n",
        "\n",
        "tp_count, fp_count, fn_count, tn_count"
      ]
    },
    {
      "cell_type": "markdown",
      "metadata": {
        "id": "zAhWrVk6__f5"
      },
      "source": [
        "get 20 true positives, 8 false positives, 52 false negatives and 124 true negatives. So it does identify quite a few documents correctly as describing clinical trials but misses many more.\n",
        "\n",
        "The raw counts of a confusion matrix can be a little challenging to comprehend. It gets harder if you want to compare multiple classifier results.  turn the counts into some of the standard metrics I will use:\n",
        "\n",
        "- $ accuracy = \\frac{TP+TN}{TP+FP+FN+TN} $\n",
        "\n",
        "- $ precision = \\frac{TP}{TP+FP} $\n",
        "\n",
        "- $ recall = \\frac{TP}{TP+FN} $\n",
        "\n",
        "- $ F_1 = 2\\frac{precision \\times recall}{precision + recall} $\n",
        "\n",
        "**Exercise:** Calculate the $accuracy$, $precision$, $recall$ and $F_1 score$ with the confusion matrix counts to 3 decimal places.\n",
        "\n",
        "*Tip:* You can output a number nicely using [f-strings](https://docs.python.org/3/tutorial/inputoutput.html#formatted-string-literals). To output the variable `x` to 5 decimal places, you could use `print(f\"{x:.5f}\")`"
      ]
    },
    {
      "cell_type": "code",
      "execution_count": null,
      "metadata": {
        "colab": {
          "base_uri": "https://localhost:8080/"
        },
        "id": "AUy8X85L_qe5",
        "outputId": "79da6c1f-4b0b-4740-999b-5b4e94245e7e"
      },
      "outputs": [
        {
          "name": "stdout",
          "output_type": "stream",
          "text": [
            "accuracy=0.706\n",
            "precision=0.714\n",
            "recall=0.278\n",
            "f1=0.400\n"
          ]
        }
      ],
      "source": [
        "# ANSWER\n",
        "\n",
        "accuracy = (tp_count + tn_count) / (tp_count + tn_count + fp_count + fn_count)\n",
        "print(f\"{accuracy=:.3f}\")\n",
        "\n",
        "precision = (tp_count) / (tp_count + fp_count)\n",
        "print(f\"{precision=:.3f}\")\n",
        "\n",
        "recall = (tp_count) / (tp_count + fn_count)\n",
        "print(f\"{recall=:.3f}\")\n",
        "\n",
        "f1 = 2 * (precision * recall) / (precision + recall)\n",
        "print(f\"{f1=:.3f}\")"
      ]
    },
    {
      "cell_type": "markdown",
      "metadata": {
        "id": "z7abv4NLAJun"
      },
      "source": [
        "get accuracy=0.706, precision=0.714, recall=0.278 and f1=0.400. The precision is on the higher end as it doesn't predict too many false positives, but the recall is low as there are many false negatives.\n",
        "\n",
        "*Bonus tip:* practically you only want to give a few decimal places when reporting results. It can look odd to give 10 decimal places, and it can make the numbers more challenging to read. The numbers at the 5th and 6th decimal place are likely not very important. Three decimal places are often sufficient.\n",
        "\n",
        "Scikit-learn offers some useful functions to calculate the confusion matrix counts as well as the different evaluation metrics directly.\n",
        "\n",
        "**Exercise:** Use scikit-learn's [confusion_matrix](https://scikit-learn.org/stable/modules/generated/sklearn.metrics.confusion_matrix.html) function to calculate the true positive, false positive, false negative and true negative counts of the actual labels `labels_val` and the predicted labels `labels_predicted` from above. The counts should be the same as you calculated earlier"
      ]
    },
    {
      "cell_type": "code",
      "execution_count": null,
      "metadata": {
        "colab": {
          "base_uri": "https://localhost:8080/"
        },
        "id": "QUCizu9r-7-6",
        "outputId": "163f160c-4a53-478f-c9ac-683c2af4ae71"
      },
      "outputs": [
        {
          "name": "stdout",
          "output_type": "stream",
          "text": [
            "[[124   8]\n",
            " [ 52  20]]\n"
          ]
        }
      ],
      "source": [
        "# ANSWER\n",
        "\n",
        "from sklearn.metrics import confusion_matrix\n",
        "print(confusion_matrix(labels_val, labels_predicted))"
      ]
    },
    {
      "cell_type": "markdown",
      "metadata": {
        "id": "twlqyslDrLxd"
      },
      "source": [
        "Now  get the evaluation metrics with scikit-learn.\n",
        "\n",
        "**Exercise:** Use [scikit-learn metrics functions](https://scikit-learn.org/stable/modules/model_evaluation.html) to calculate the accuracy, precision, recall and f1 scores of our earlier predictions `labels_predicted` against the actual labels `labels_val`."
      ]
    },
    {
      "cell_type": "code",
      "execution_count": null,
      "metadata": {
        "colab": {
          "base_uri": "https://localhost:8080/"
        },
        "id": "gBlGQrTInJJ_",
        "outputId": "1356941a-a9ad-48e4-e66e-457a49e37f0d"
      },
      "outputs": [
        {
          "name": "stdout",
          "output_type": "stream",
          "text": [
            "accuracy=0.706\n",
            "precision=0.714\n",
            "recall=0.278\n",
            "f1=0.400\n"
          ]
        }
      ],
      "source": [
        "# ANSWER\n",
        "from sklearn.metrics import accuracy_score, precision_score, recall_score, f1_score\n",
        "\n",
        "accuracy = accuracy_score(labels_val, labels_predicted)\n",
        "print(f\"{accuracy=:.3f}\")\n",
        "\n",
        "precision = precision_score(labels_val, labels_predicted)\n",
        "print(f\"{precision=:.3f}\")\n",
        "\n",
        "recall = recall_score(labels_val, labels_predicted)\n",
        "print(f\"{recall=:.3f}\")\n",
        "\n",
        "f1 = f1_score(labels_val, labels_predicted)\n",
        "print(f\"{f1=:.3f}\")"
      ]
    },
    {
      "cell_type": "markdown",
      "metadata": {
        "id": "lSGw1NPSmFXg"
      },
      "source": [
        "You may want to make a figure from the confusion matrix. Scikit-learn offers a function [ConfusionMatrixDisplay](https://scikit-learn.org/stable/modules/generated/sklearn.metrics.ConfusionMatrixDisplay.html) that displays the confusion matrix."
      ]
    },
    {
      "cell_type": "code",
      "execution_count": null,
      "metadata": {
        "colab": {
          "base_uri": "https://localhost:8080/",
          "height": 467
        },
        "id": "yS70aXz3lp4n",
        "outputId": "0dde687d-c8dc-42a9-e809-cf3b02888e83"
      },
      "outputs": [
        {
          "data": {
            "text/plain": [
              "<sklearn.metrics._plot.confusion_matrix.ConfusionMatrixDisplay at 0x7d72affbdf90>"
            ]
          },
          "execution_count": 17,
          "metadata": {},
          "output_type": "execute_result"
        },
        {
          "data": {
            "image/png": "[encoded data removed]",
            "text/plain": [
              "<Figure size 640x480 with 2 Axes>"
            ]
          },
          "metadata": {},
          "output_type": "display_data"
        }
      ],
      "source": [
        "from sklearn.metrics import ConfusionMatrixDisplay\n",
        "\n",
        "cm = confusion_matrix(labels_val, labels_predicted)\n",
        "ConfusionMatrixDisplay(confusion_matrix=cm, display_labels=['not clinical trial','clinical trial']).plot()"
      ]
    },
    {
      "cell_type": "markdown",
      "metadata": {
        "id": "7x6EIrvBsstG"
      },
      "source": [
        "It can be nice to have a bit more control over the plotting. Here's some code using a plotting library called [seaborn](https://seaborn.pydata.org/) that outputs a labeled confusion matrix. It allows you to use a custom colour palette including [ColorBrewer](https://colorbrewer2.org/) which is commonly used for making nice plots. Here I use the `Reds` palette, but there are [many more](https://seaborn.pydata.org/tutorial/color_palettes.html). Some are recommended for colour-blind audiences or for printing."
      ]
    },
    {
      "cell_type": "code",
      "execution_count": null,
      "metadata": {
        "colab": {
          "base_uri": "https://localhost:8080/",
          "height": 467
        },
        "id": "ZeolcJivAebZ",
        "outputId": "de505bfb-4b5a-4f29-9132-5cb8bb41c919"
      },
      "outputs": [
        {
          "data": {
            "text/plain": [
              "<Axes: xlabel='Predicted', ylabel='Actual'>"
            ]
          },
          "execution_count": 18,
          "metadata": {},
          "output_type": "execute_result"
        },
        {
          "data": {
            "image/png": "[encoded data removed]",
            "text/plain": [
              "<Figure size 640x480 with 1 Axes>"
            ]
          },
          "metadata": {},
          "output_type": "display_data"
        }
      ],
      "source": [
        "import seaborn as sn\n",
        "\n",
        "def plotConfusionMatrix(labels_val, labels_predicted):\n",
        "  cm = confusion_matrix(labels_val, labels_predicted)\n",
        "  colour_map = sn.color_palette(\"Reds\", as_cmap=True)\n",
        "  labels = ['not clinical trial', 'clinical trial']\n",
        "  plot = sn.heatmap(cm,\n",
        "                    annot=True, # Put the numbers in\n",
        "                    annot_kws={\"size\": 16}, # Make the numbers bigger\n",
        "                    fmt='g', # Stop scientific notation\n",
        "                    cmap = colour_map, # Choose the colour palette\n",
        "                    cbar = False, # Don't include the colour bar\n",
        "                    xticklabels=labels, # Put in the X and Y labels\n",
        "                    yticklabels=labels)\n",
        "  plot.set(xlabel='Predicted', ylabel='Actual')\n",
        "  return plot\n",
        "\n",
        "plotConfusionMatrix(labels_val, labels_predicted)"
      ]
    },
    {
      "cell_type": "markdown",
      "metadata": {
        "id": "4w3XDPEgzY4s"
      },
      "source": [
        "*Extra tip:* Scikit-learn also has a nice function [classification_report](https://scikit-learn.org/stable/modules/generated/sklearn.metrics.classification_report.html) which is useful for multi-class classification problems. It's not as useful for binary problems."
      ]
    },
    {
      "cell_type": "markdown",
      "metadata": {
        "id": "58GqEha6m_vu"
      },
      "source": [
        "### Building a dummy classifier\n",
        "\n",
        "I got an accuracy of 0.706. Is that good? Well, it depends on the class balance, which in this dataset is the balance of positive and negative labels.\n",
        "\n",
        "At the beginning, I calculated the label counts for the whole dataset and know that the negatives are in the majority. What if the classifier always predicted False?\n",
        "\n",
        "**Exercise:** Make another classifier (not using scikit-learn) that always predicts False for every sample in the validation set. Store the result to `labels_predicted` again."
      ]
    },
    {
      "cell_type": "code",
      "execution_count": null,
      "metadata": {
        "id": "Qjf020LfnEb6"
      },
      "outputs": [],
      "source": [
        "# ANSWER\n",
        "\n",
        "labels_predicted = []\n",
        "for text in texts_val:\n",
        "  label = False\n",
        "  labels_predicted.append(label)"
      ]
    },
    {
      "cell_type": "markdown",
      "metadata": {
        "id": "xcZ3fBFTu5SV"
      },
      "source": [
        "**Exercise:** Calculate the accuracy of these new predictions using scikit-learn. *Tip:* copy your scikit-learn code from above"
      ]
    },
    {
      "cell_type": "code",
      "execution_count": null,
      "metadata": {
        "colab": {
          "base_uri": "https://localhost:8080/"
        },
        "id": "_fODkxN2pXrN",
        "outputId": "c318cb77-8d52-4c6a-a2e3-9919f1cccebe"
      },
      "outputs": [
        {
          "name": "stdout",
          "output_type": "stream",
          "text": [
            "accuracy=0.647\n"
          ]
        }
      ],
      "source": [
        "# ANSWER\n",
        "\n",
        "accuracy = accuracy_score(labels_val, labels_predicted)\n",
        "print(f\"{accuracy=:.3f}\")"
      ]
    },
    {
      "cell_type": "markdown",
      "metadata": {
        "id": "fdtuLc8DvD_o"
      },
      "source": [
        "Huh, the accuracy of always predicting False is 0.647. So 0.704 is better, but not by that much.\n",
        "\n",
        "Where does the 0.647 come from?\n",
        "\n",
        "**Exercise:** Calculate the percentage of False labels in `labels_val`. You could use a [Counter](https://docs.python.org/3/library/collections.html#collections.Counter) again or you can use [sum](https://docs.python.org/3/library/functions.html#sum) to add up lists of boolean values."
      ]
    },
    {
      "cell_type": "code",
      "execution_count": null,
      "metadata": {
        "colab": {
          "base_uri": "https://localhost:8080/"
        },
        "id": "mTfKK01hs87q",
        "outputId": "a894d154-e3f6-4ea3-d306-300aca2fc247"
      },
      "outputs": [
        {
          "data": {
            "text/plain": [
              "0.6470588235294117"
            ]
          },
          "execution_count": 21,
          "metadata": {},
          "output_type": "execute_result"
        }
      ],
      "source": [
        "# ANSWER\n",
        "\n",
        "1 - (sum(labels_val) / len(labels_val))"
      ]
    },
    {
      "cell_type": "markdown",
      "metadata": {
        "id": "-8t9TCGkvs2g"
      },
      "source": [
        "The accuracy score matches the majority class percentage. So, for really extreme class imbalances (like 1% positive labels), guessing the most frequent class will get you a very high accuracy score - which is not helpful. That's why I need to use other metrics like precision, recall and F1.\n",
        "\n",
        "*Extra tip:* Scikit-learn offers a [dummy classifier](https://scikit-learn.org/stable/modules/generated/sklearn.dummy.DummyClassifier.html) that can use basic strategies like guessing the most frequent class. This can provide a baseline to compare other scores against.\n",
        "\n",
        "**Exercise:** Now calculate the precision, recall and F1 scores of these new predictions `labels_predicted` against the actual labels `labels_val` using scikit-learn functions. *Tip:* Copy your code again from above."
      ]
    },
    {
      "cell_type": "code",
      "execution_count": null,
      "metadata": {
        "colab": {
          "base_uri": "https://localhost:8080/"
        },
        "id": "eskVuZhYnotT",
        "outputId": "9a6d2678-9a19-437f-8c4f-8c1eb8614285"
      },
      "outputs": [
        {
          "name": "stdout",
          "output_type": "stream",
          "text": [
            "precision=0.000\n",
            "recall=0.000\n",
            "f1=0.000\n"
          ]
        },
        {
          "name": "stderr",
          "output_type": "stream",
          "text": [
            "/usr/local/lib/python3.11/dist-packages/sklearn/metrics/_classification.py:1565: UndefinedMetricWarning: Precision is ill-defined and being set to 0.0 due to no predicted samples. Use `zero_division` parameter to control this behavior.\n",
            "  _warn_prf(average, modifier, f\"{metric.capitalize()} is\", len(result))\n"
          ]
        }
      ],
      "source": [
        "# ANSWER\n",
        "\n",
        "precision = precision_score(labels_val, labels_predicted)\n",
        "print(f\"{precision=:.3f}\")\n",
        "\n",
        "recall = recall_score(labels_val, labels_predicted)\n",
        "print(f\"{recall=:.3f}\")\n",
        "\n",
        "f1 = f1_score(labels_val, labels_predicted)\n",
        "print(f\"{f1=:.3f}\")"
      ]
    },
    {
      "cell_type": "markdown",
      "metadata": {
        "id": "krWnU7X2v9Gy"
      },
      "source": [
        "Wow, zeros for precision, recall and F1. This is not a good classifier even though the accuracy looked okay.\n",
        "\n",
        "Notice the warning about precision being ill-defined. If the denominators in the equations for precision, recall or F1 are zero, you have a divide by zero and the metric is not defined. Scikit-learn will still return a zero, but you may get a warning."
      ]
    },
    {
      "cell_type": "markdown",
      "metadata": {
        "id": "mEWu-jfZ-Ty9"
      },
      "source": [
        "## Train a scikit-learn classifier\n",
        "\n",
        "Now, I've created our own classifier that looked for the word `trial` and a dummy classifier that always predicted the most frequent class.  create an actual classifier based on the word frequencies in the documents.\n",
        "\n",
        "First, I want to vectorise the documents and turn each one into a TF-IDF vector. This will give us feature matrices that I can use for our classifiers.\n",
        "\n",
        "**Exercise:** Fit a [TfidfVectorizer](https://scikit-learn.org/stable/modules/generated/sklearn.feature_extraction.text.TfidfVectorizer.html) to the training text (`texts_train`), transform the training text and the validation text. Use the default parameters for TfidfVectorizer. You may want to check previous Projects for using TfidfVectorizer. Output the matrix dimensions (`.shape`) of the vectorised training and validation texts."
      ]
    },
    {
      "cell_type": "code",
      "execution_count": null,
      "metadata": {
        "colab": {
          "base_uri": "https://localhost:8080/"
        },
        "id": "O44MyLCy6smw",
        "outputId": "78fcd8e3-ac1a-4b0b-b34b-1c6ce2b42679"
      },
      "outputs": [
        {
          "name": "stdout",
          "output_type": "stream",
          "text": [
            "X_train.shape=(612, 9321)\n",
            "X_val.shape=(204, 9321)\n"
          ]
        }
      ],
      "source": [
        "# ANSWER\n",
        "\n",
        "from sklearn.feature_extraction.text import TfidfVectorizer\n",
        "\n",
        "vectorizer = TfidfVectorizer()\n",
        "X_train = vectorizer.fit_transform(texts_train)\n",
        "X_val = vectorizer.transform(texts_val)\n",
        "\n",
        "print(f\"{X_train.shape=}\")\n",
        "print(f\"{X_val.shape=}\")"
      ]
    },
    {
      "cell_type": "markdown",
      "metadata": {
        "id": "6IGvOVFKycK9"
      },
      "source": [
        "have a training dataset with dimensions (612,9321) and a validation feature matrix with dimensions (204, 9321).\n",
        "\n",
        "I've got the feature matrices that I need to train a scikit-learn classifier. I'll look at one of the standard ones: Logistic Regression.\n",
        "\n",
        "**Exercise:** Fit a [LogisticRegression](https://scikit-learn.org/stable/modules/generated/sklearn.linear_model.LogisticRegression.html) classifier to the training feature matrix (that you got from the TfidfVectorizer) and the training labels (`labels_train`). Then make predictions on the validation data (using its feature matrix). Save the predictions to the `labels_predicted` variable and check its length. Use the defaults with a `random_state=42`."
      ]
    },
    {
      "cell_type": "code",
      "execution_count": null,
      "metadata": {
        "colab": {
          "base_uri": "https://localhost:8080/"
        },
        "id": "IU7VVbWK7EuC",
        "outputId": "4c55342b-8ca9-4a0e-895d-74a1087d72b9"
      },
      "outputs": [
        {
          "data": {
            "text/plain": [
              "204"
            ]
          },
          "execution_count": 24,
          "metadata": {},
          "output_type": "execute_result"
        }
      ],
      "source": [
        "# ANSWER\n",
        "\n",
        "from sklearn.linear_model import LogisticRegression\n",
        "\n",
        "clf = LogisticRegression(random_state=42)\n",
        "clf.fit(X_train,labels_train)\n",
        "labels_predicted = clf.predict(X_val)\n",
        "\n",
        "len(labels_predicted)"
      ]
    },
    {
      "cell_type": "markdown",
      "metadata": {
        "id": "o9oq7KCE0Xl3"
      },
      "source": [
        "have 204 predictions that matches the size of the validation set.\n",
        "\n",
        " see what the confusion matrix of our new predictions `labels_predicted` with Logistic Regression looks like:"
      ]
    },
    {
      "cell_type": "code",
      "execution_count": null,
      "metadata": {
        "colab": {
          "base_uri": "https://localhost:8080/",
          "height": 467
        },
        "id": "sfxP16o-7WNg",
        "outputId": "f00490ac-f717-4186-aeed-10a1aaca1a5b"
      },
      "outputs": [
        {
          "data": {
            "text/plain": [
              "<Axes: xlabel='Predicted', ylabel='Actual'>"
            ]
          },
          "execution_count": 25,
          "metadata": {},
          "output_type": "execute_result"
        },
        {
          "data": {
            "image/png": "[encoded data removed]",
            "text/plain": [
              "<Figure size 640x480 with 1 Axes>"
            ]
          },
          "metadata": {},
          "output_type": "display_data"
        }
      ],
      "source": [
        "plotConfusionMatrix(labels_val, labels_predicted)"
      ]
    },
    {
      "cell_type": "markdown",
      "metadata": {
        "id": "dgdRpj1A03FT"
      },
      "source": [
        "see 132 true negatives, 0 false positives, 41 false negatives and 31 true positives.\n",
        "\n",
        "**Exercise:** Now I know that accuracy isn't good for this dataset, calculate the precision, recall and F1 scores to three decimal places."
      ]
    },
    {
      "cell_type": "code",
      "execution_count": null,
      "metadata": {
        "colab": {
          "base_uri": "https://localhost:8080/"
        },
        "id": "XLr9g_Is3phZ",
        "outputId": "4d9e46cb-c6ca-4922-a6fe-4783f735fd96"
      },
      "outputs": [
        {
          "name": "stdout",
          "output_type": "stream",
          "text": [
            "precision=1.000\n",
            "recall=0.431\n",
            "f1=0.602\n"
          ]
        }
      ],
      "source": [
        "# ANSWER\n",
        "\n",
        "precision = precision_score(labels_val, labels_predicted)\n",
        "print(f\"{precision=:.3f}\")\n",
        "\n",
        "recall = recall_score(labels_val, labels_predicted)\n",
        "print(f\"{recall=:.3f}\")\n",
        "\n",
        "f1 = f1_score(labels_val, labels_predicted)\n",
        "print(f\"{f1=:.3f}\")"
      ]
    },
    {
      "cell_type": "markdown",
      "metadata": {
        "id": "Y7ave66nUZsH"
      },
      "source": [
        "That's great precision! All of the documents it predicts to be clinical trial reports are. The recall is on the lower end though."
      ]
    },
    {
      "cell_type": "markdown",
      "metadata": {
        "id": "1FOtIce5B3D9"
      },
      "source": [
        "### Evaluating on the training set\n",
        "\n",
        "The most useful evaluation metrics are on a **held-out** dataset - one which was not used for training the classifier. However, it is sometimes useful to see how the classifier performs on the training set. If it performs very very well on the training set, and much worse on the validation set, it is likely that the classifier has [overfit](https://en.wikipedia.org/wiki/Overfitting) the training set. This can depend on the specific algorithm of the classifier\n",
        "\n",
        " check out the performance metrics on the training set.\n",
        "\n",
        "**Exercise:** Use the existing classifier to make predictions on the training vectors and calculate the precision, recall and F1 scores against the training labels `labels_train`."
      ]
    },
    {
      "cell_type": "code",
      "execution_count": null,
      "metadata": {
        "colab": {
          "base_uri": "https://localhost:8080/"
        },
        "id": "u_mOm6SCClp1",
        "outputId": "bae5f1a6-7cc4-4b55-9329-602b878a976b"
      },
      "outputs": [
        {
          "name": "stdout",
          "output_type": "stream",
          "text": [
            "training precision=0.984\n",
            "training recall=0.651\n",
            "training f1=0.784\n"
          ]
        }
      ],
      "source": [
        "# ANSWER\n",
        "\n",
        "labels_predicted = clf.predict(X_train)\n",
        "\n",
        "precision = precision_score(labels_train, labels_predicted)\n",
        "print(f\"training {precision=:.3f}\")\n",
        "\n",
        "recall = recall_score(labels_train, labels_predicted)\n",
        "print(f\"training {recall=:.3f}\")\n",
        "\n",
        "f1 = f1_score(labels_train, labels_predicted)\n",
        "print(f\"training {f1=:.3f}\")"
      ]
    },
    {
      "cell_type": "markdown",
      "metadata": {
        "id": "fFwe4ijLDEOc"
      },
      "source": [
        "see training precision=0.984, training recall=0.651 and training f1=0.784. The F1 score is higher on the training set than the validation set so some amount of overfitting is likely happening. Note that the classifier performance will almost always be better on the training set than the validation set."
      ]
    },
    {
      "cell_type": "markdown",
      "metadata": {
        "id": "mzQYOn0z1Ovf"
      },
      "source": [
        "## Trying out different pipelines\n",
        "\n",
        "I've got one machine learning pipeline (from text data, to vectorised data, to a classifier and to predictions). I now want to try out some other pipelines and see if I can make any improvements."
      ]
    },
    {
      "cell_type": "markdown",
      "metadata": {
        "id": "4uI37J5omb0s"
      },
      "source": [
        "### Using spaCy for tokenization\n",
        "\n",
        "I used the defaults for the TfidfVectorizer before. One of those defaults is how to do the tokenization. The TfidfVectorizer uses a fairly basic technique to split up text into tokens.  see if using spaCy improves anything.\n",
        "\n",
        "Below is code from a previous Project to tokenize text using spaCy."
      ]
    },
    {
      "cell_type": "code",
      "execution_count": null,
      "metadata": {
        "colab": {
          "base_uri": "https://localhost:8080/"
        },
        "id": "oaugEKBK8SoA",
        "outputId": "b369eadc-6583-4758-e6b0-01c182684538"
      },
      "outputs": [
        {
          "data": {
            "text/plain": [
              "['thing', 'miss', 'miss', 'mind']"
            ]
          },
          "execution_count": 28,
          "metadata": {},
          "output_type": "execute_result"
        }
      ],
      "source": [
        "import spacy\n",
        "\n",
        "nlp = spacy.load('en_core_web_sm')\n",
        "\n",
        "def text_pipeline_spacy(text):\n",
        "    tokens = []\n",
        "    doc = nlp(text)\n",
        "    for t in doc:\n",
        "        if not t.is_stop and not t.is_punct and not t.is_space:\n",
        "            tokens.append(t.lemma_.lower())\n",
        "    return tokens\n",
        "\n",
        "# Example usage:\n",
        "text_pipeline_spacy(\"Of all the things I miss, I miss my mind the most.\")"
      ]
    },
    {
      "cell_type": "markdown",
      "metadata": {
        "id": "3XYeGPnP2QmG"
      },
      "source": [
        "**Exercise:** Run the machine learning pipeline again using this new tokenization - essentially copy the various steps of scikit-learn from above and change the TfidfVectorizer. Specifically: vectorise the training and validation data with a [TfidfVectorizer](https://scikit-learn.org/stable/modules/generated/sklearn.feature_extraction.text.TfidfVectorizer.html) that uses the `text_pipeline_spacy` function as its tokenizer. Train a new LogisticRegression classifier on the training labels and new training feature matrix. Make predictions on the validation set and calculate the F1-score. As before, use `random_state=42` and no other parameters for LogisticRegression\n",
        "\n",
        "This may take a minute to run."
      ]
    },
    {
      "cell_type": "code",
      "execution_count": null,
      "metadata": {
        "colab": {
          "base_uri": "https://localhost:8080/"
        },
        "id": "nZRsz7DA7c5O",
        "outputId": "0696e114-756c-48e5-81e7-0f7adf1597da"
      },
      "outputs": [
        {
          "name": "stdout",
          "output_type": "stream",
          "text": [
            "f1=0.629\n"
          ]
        }
      ],
      "source": [
        "# ANSWER\n",
        "\n",
        "vectorizer = TfidfVectorizer(tokenizer=text_pipeline_spacy, token_pattern=None)\n",
        "X_train = vectorizer.fit_transform(texts_train)\n",
        "X_val = vectorizer.transform(texts_val)\n",
        "\n",
        "clf = LogisticRegression(random_state=42)\n",
        "clf.fit(X_train,labels_train)\n",
        "\n",
        "labels_predicted = clf.predict(X_val)\n",
        "\n",
        "f1 = f1_score(labels_val, labels_predicted)\n",
        "print(f\"{f1=:.3f}\")"
      ]
    },
    {
      "cell_type": "markdown",
      "metadata": {
        "id": "Zsoalmjk4FHj"
      },
      "source": [
        "get an F1 score of 0.629 so slightly better with this tokenization strategy."
      ]
    },
    {
      "cell_type": "markdown",
      "metadata": {
        "id": "PE4mi08DmhP4"
      },
      "source": [
        "### Changing the hyperparameters\n",
        "\n",
        "Looking at the scikit-learn pages for the [TfidfVectorizer](https://scikit-learn.org/stable/modules/generated/sklearn.feature_extraction.text.TfidfVectorizer.html) and [LogisticRegression](https://scikit-learn.org/stable/modules/generated/sklearn.linear_model.LogisticRegression.html), there are a lot of options you can tweak that will affect how the classifier behaves. These are known as hyperparameters.  try out a different setting. The `C` hyperparameter of a Logistic Regression classifier controls a feature known as [regularization](https://en.wikipedia.org/wiki/Regularization_(mathematics)). This can stop a classifier from overfitting by limiting the weights that the classifier puts on different individual features. A higher `C` lowers the amount of regularization.\n",
        "\n",
        "**Exercise:** Run the machine learning pipeline (vectorizing, building classifier and making predictions) with a TfidfVectorizer using its default tokenization (no spaCy) and the LogisticRegression with parameter `C=5` and `random_state=42`. Calculate the F1-score of the predictions on the validation dataset."
      ]
    },
    {
      "cell_type": "code",
      "execution_count": null,
      "metadata": {
        "colab": {
          "base_uri": "https://localhost:8080/"
        },
        "id": "yxHFRHwSmjP9",
        "outputId": "fbcc2497-2499-4ee0-8c3c-49e4219bb553"
      },
      "outputs": [
        {
          "name": "stdout",
          "output_type": "stream",
          "text": [
            "f1=0.752\n"
          ]
        }
      ],
      "source": [
        "# ANSWER\n",
        "\n",
        "vectorizer = TfidfVectorizer()\n",
        "X_train = vectorizer.fit_transform(texts_train)\n",
        "X_val = vectorizer.transform(texts_val)\n",
        "\n",
        "clf = LogisticRegression(random_state=42, C=5)\n",
        "clf.fit(X_train,labels_train)\n",
        "\n",
        "labels_predicted = clf.predict(X_val)\n",
        "\n",
        "f1 = f1_score(labels_val, labels_predicted)\n",
        "print(f\"{f1=:.3f}\")"
      ]
    },
    {
      "cell_type": "markdown",
      "metadata": {
        "id": "k1FAfOw4FWUO"
      },
      "source": [
        "get an F1 score of 0.752. Even better!"
      ]
    },
    {
      "cell_type": "markdown",
      "metadata": {
        "id": "jR9WfyHTmfQs"
      },
      "source": [
        "### Tuning the hyperparameters\n",
        "\n",
        "There are a lot of hyperparameters that can be tweaked. It is standard practice to try out a bunch of hyperparameter settings with training on the training set and evaluating on the validation set.\n",
        "\n",
        "Searching across all possible settings (given lists of each possible desired setting for each hyperparameter) is known as [grid search](https://en.wikipedia.org/wiki/Hyperparameter_optimization).\n",
        "\n",
        "Scikit-learn provides a nice feature known as [ParameterGrid](https://scikit-learn.org/stable/modules/generated/sklearn.model_selection.ParameterGrid.html) that allows you to list the possible settings for each hyperparameter and to then iterate over the different settings. The code below illustrates it for two imagined hyperparameters `a` and `b`."
      ]
    },
    {
      "cell_type": "code",
      "execution_count": null,
      "metadata": {
        "colab": {
          "base_uri": "https://localhost:8080/"
        },
        "id": "eqwZbudqmymO",
        "outputId": "d05fe104-8775-45d2-b85a-2a8a20b66759"
      },
      "outputs": [
        {
          "name": "stdout",
          "output_type": "stream",
          "text": [
            "{'a': 1, 'b': True}\n",
            "{'a': 1, 'b': False}\n",
            "{'a': 2, 'b': True}\n",
            "{'a': 2, 'b': False}\n"
          ]
        }
      ],
      "source": [
        "from sklearn.model_selection import ParameterGrid\n",
        "param_grid = {'a': [1, 2], 'b': [True, False]}\n",
        "\n",
        "for params in ParameterGrid(param_grid):\n",
        "    print(params)"
      ]
    },
    {
      "cell_type": "markdown",
      "metadata": {
        "id": "W3c78c-36Jt_"
      },
      "source": [
        "Practically the number of possible settings may be so vast that the computational cost of trying them all using grid search is infeasible. You would likely pick a small number of hyperparameters that are known to have a big effect and also choose a limited set of possible values for them.\n",
        "\n",
        "You may also try a strategy other than grid search, such as optimising one hyperparameter at a time before moving onto the next or some form of random search. There are many strategies for this problem known as [hyperparameter optimization](https://en.wikipedia.org/wiki/Hyperparameter_optimization). But for now, I'll stick with grid search.\n",
        "\n",
        "**Exercise:** Using a [ParameterGrid](https://scikit-learn.org/stable/modules/generated/sklearn.model_selection.ParameterGrid.html), try out different settings for the `C` for Logistic Regression (try 1 or 10) and `max_df` for TfidfVectorizer (try 0.7 or 1.0). Again, don't use spaCy for tokenization (for speed) and use `random_state=42` for the Logistic Regression classifier. Save the hyperparameter settings that give the highest F1 score on the validation set."
      ]
    },
    {
      "cell_type": "code",
      "execution_count": null,
      "metadata": {
        "colab": {
          "base_uri": "https://localhost:8080/"
        },
        "id": "pxbDANKEl_-a",
        "outputId": "ef67b6c0-6d65-4270-f288-7a2bc8f0e158"
      },
      "outputs": [
        {
          "name": "stdout",
          "output_type": "stream",
          "text": [
            "  Evaluating params={'C': 1, 'max_df': 0.7} f1=0.642\n",
            "  Evaluating params={'C': 1, 'max_df': 1.0} f1=0.602\n",
            "  Evaluating params={'C': 10, 'max_df': 0.7} f1=0.793\n",
            "  Evaluating params={'C': 10, 'max_df': 1.0} f1=0.783\n",
            "best_params={'C': 10, 'max_df': 0.7}\n",
            "best_f1=0.793\n"
          ]
        }
      ],
      "source": [
        "# ANSWER\n",
        "\n",
        "param_grid = {'C': [1, 10], 'max_df': [0.7, 1.0]}\n",
        "best_params, best_f1 = None, 0\n",
        "for params in ParameterGrid(param_grid):\n",
        "    vectorizer = TfidfVectorizer(max_df=params['max_df'])\n",
        "    X_train = vectorizer.fit_transform(texts_train)\n",
        "    X_val = vectorizer.transform(texts_val)\n",
        "\n",
        "    clf = LogisticRegression(random_state=42, C=params['C'])\n",
        "    clf.fit(X_train,labels_train)\n",
        "\n",
        "    labels_predicted = clf.predict(X_val)\n",
        "\n",
        "    f1 = f1_score(labels_val, labels_predicted)\n",
        "    print(f\"  Evaluating {params=} {f1=:.3f}\")\n",
        "\n",
        "    if f1 > best_f1:\n",
        "        best_params = params\n",
        "        best_f1 = f1\n",
        "\n",
        "print(f\"{best_params=}\")\n",
        "print(f\"{best_f1=:.3f}\")"
      ]
    },
    {
      "cell_type": "markdown",
      "metadata": {
        "id": "vbyFNc4W8bz3"
      },
      "source": [
        "find that the settings (`C=10` and `max_df=0.7`) gives the best validation F1 score of 0.793.\n",
        "\n",
        "I've only tested out a LogisticRegression classifier. It's a good idea to try out a few other classifiers. Scikit-learn offers a large selection of classifier algorithms.\n",
        "\n",
        "**Exercise:** Pick another classifier from scikit-learn such as a K Nearest Neighbors Classifier, a Linear Support Vector classifier, a Random Forest classifier. Rerun the machine learning classifier with it and see how it performs on the validation set by calculating the F1 score."
      ]
    },
    {
      "cell_type": "code",
      "execution_count": null,
      "metadata": {
        "colab": {
          "base_uri": "https://localhost:8080/"
        },
        "id": "rUxqOtSc8o5T",
        "outputId": "757ffd3d-9110-4148-ec2c-ee0c0efc3505"
      },
      "outputs": [
        {
          "name": "stdout",
          "output_type": "stream",
          "text": [
            "f1=0.813\n"
          ]
        }
      ],
      "source": [
        "# ANSWER (using a RandomForestClassifier)\n",
        "\n",
        "from sklearn.ensemble import RandomForestClassifier\n",
        "\n",
        "vectorizer = TfidfVectorizer(tokenizer=text_pipeline_spacy, token_pattern=None)\n",
        "X_train = vectorizer.fit_transform(texts_train)\n",
        "X_val = vectorizer.transform(texts_val)\n",
        "\n",
        "clf = RandomForestClassifier(random_state=42)\n",
        "clf.fit(X_train,labels_train)\n",
        "\n",
        "labels_predicted = clf.predict(X_val)\n",
        "\n",
        "f1 = f1_score(labels_val, labels_predicted)\n",
        "print(f\"{f1=:.3f}\")"
      ]
    },
    {
      "cell_type": "markdown",
      "metadata": {
        "id": "m3WQR_Gf-UfH"
      },
      "source": [
        "### Error analysis\n",
        "\n",
        "As I're trying to squeeze more performance out of our machine learning pipeline, this is also a good time to understand what errors are happening. Essentially, what is our best classifier good at, and what is it not good at? This can lead us to create new custom features, annotate more specific data or other strategies to solve problems.\n",
        "\n",
        "A good practice is to randomly select some false positives and false negatives (the mistakes) from the validation set and to manually check why they are mistakes. This may require expert knowledge of the text (as in the case of clinical trial reports). Some common outcomes of this analysis:\n",
        "- The useful features that you can see when you look at the text are not being captured by the features (maybe trigrams are essential)\n",
        "- The class is so rare that the classifier is having a hard time distinguishing it from the majority class.\n",
        "  - More data may be required - or other tricks to deal with class imbalance.\n",
        "- They are not mistakes and the labels are wrong\n",
        "- The classifier has a problem with certain types of data\n",
        "  - For the clinical trial reports, there could a type of trial that is described completely differently from others\n",
        "\n",
        "For multiclass problems, the confusion matrix can also tell you what classes are being confused with others.\n",
        "\n",
        "I won't dive into the data to do error analysis in this Project.\n"
      ]
    },
    {
      "cell_type": "markdown",
      "metadata": {
        "id": "h_mN8ZvWnOaq"
      },
      "source": [
        "## Evaluating on the test set\n",
        "\n",
        "At the end of a machine learning project, when you have done all your experiments on the training & validation sets, it is finally time to turn to the **test set**. You shouldn't use it in training and tuning your model. It should only be used for evaluation and the less you use it the better.\n",
        "\n",
        "For this Project, don't worry about rerunning things on the test set.\n",
        "\n",
        "**Exercise:** Take your best pipeline (vectoriser & classifier) approach from above. Train it on the training data and evaluate it on the test data (`texts_test` and `labels_test`). Calculate the Precision, Recall, and F1 score on the test set."
      ]
    },
    {
      "cell_type": "code",
      "execution_count": null,
      "metadata": {
        "colab": {
          "base_uri": "https://localhost:8080/"
        },
        "id": "KxRMeUMxnQ9L",
        "outputId": "f2f0e9e9-c66d-4e2e-f7f9-8a668d8a59bf"
      },
      "outputs": [
        {
          "name": "stdout",
          "output_type": "stream",
          "text": [
            "precision=0.913\n",
            "recall=0.667\n",
            "f1=0.771\n"
          ]
        }
      ],
      "source": [
        "# ANSWER (using the best_params from above)\n",
        "\n",
        "vectorizer = TfidfVectorizer(max_df=best_params['max_df'])\n",
        "X_train = vectorizer.fit_transform(texts_train)\n",
        "X_test = vectorizer.transform(texts_test)\n",
        "\n",
        "clf = LogisticRegression(random_state=42, C=best_params['C'])\n",
        "clf.fit(X_train,labels_train)\n",
        "\n",
        "labels_predicted = clf.predict(X_test)\n",
        "\n",
        "precision = precision_score(labels_test, labels_predicted)\n",
        "print(f\"{precision=:.3f}\")\n",
        "recall = recall_score(labels_test, labels_predicted)\n",
        "print(f\"{recall=:.3f}\")\n",
        "f1 = f1_score(labels_test, labels_predicted)\n",
        "print(f\"{f1=:.3f}\")"
      ]
    },
    {
      "cell_type": "markdown",
      "metadata": {
        "id": "Z7x5GJbzBER7"
      },
      "source": [
        "You may have found a higher performing classifier so your result may differ. If you used a LogisticRegression classifier with the best parameters from earlier (`C=10` and `max_df=0.7`), see an F1 score of 0.771.\n",
        "\n",
        "You can use the `plotConfusionMatrix` function again to plot your test results (if your predictions are again stored in `labels_predicted`)."
      ]
    },
    {
      "cell_type": "code",
      "execution_count": null,
      "metadata": {
        "colab": {
          "base_uri": "https://localhost:8080/",
          "height": 467
        },
        "id": "KqHrD3egsqlu",
        "outputId": "b7ef8250-6064-4203-daf4-ffdf0e1f7a59"
      },
      "outputs": [
        {
          "data": {
            "text/plain": [
              "<Axes: xlabel='Predicted', ylabel='Actual'>"
            ]
          },
          "execution_count": 35,
          "metadata": {},
          "output_type": "execute_result"
        },
        {
          "data": {
            "image/png": "[encoded data removed]",
            "text/plain": [
              "<Figure size 640x480 with 1 Axes>"
            ]
          },
          "metadata": {},
          "output_type": "display_data"
        }
      ],
      "source": [
        "plotConfusionMatrix(labels_test, labels_predicted)"
      ]
    },
    {
      "cell_type": "markdown",
      "metadata": {
        "id": "glwquTVQHlo-"
      },
      "source": [
        "## Deployment?"
      ]
    },
    {
      "cell_type": "markdown",
      "metadata": {
        "id": "20W-b4FtEg-x"
      },
      "source": [
        "**Congratulations!** I've built a system that can do a good job at identifying articles that discuss clinical trials. You have built a classifier on a training set, tuned it with a validation set and finally evaluated it on a test set.\n",
        "\n",
        "I would now need to decide if the performance of the classifier is good enough to deploy. This will depend on the specific project and users of the system.\n",
        "\n",
        "Remember that for the clinical trials project, I aim to identify articles that the authors may have forgotten to tag as a clinical trial. Whether or not our system is suitable for deployment depends on how it will be used. For instance:\n",
        " - If I aim to automatically extend a database of clinical trials, I would want to be sure that the data that is inserted is very likely to be about a clinical trial. Otherwise, our database will become unreliable and reduce its utility. In this case, having a system that is high precision, say above 0.9 is desirable. Even if I miss some (i.e., have a lower recall), that might be alright because the alternative is missing these untagged articles anyway. But I'd still probably want reasonable recall (maybe > 0.5), otherwise it may not be worth the cost of deploying and maintaining the model.\n",
        " - If I instead aim to have a comprehensive list of clinical trial articles, high recall is critical. In this case, maybe I would target recall of at least 0.99, but acknowledge the fact that precision may suffer to achieve such recall. To counteract this, I would need to consider including a human in the loop to review the classified articles. To reduce human effort, I would want as high precision as possible while maintaining our target level of recall.\n",
        "\n",
        "For a trained model, these trade-offs can be made by adjusting the decision threshold. The [ROC curve](https://en.wikipedia.org/wiki/Receiver_operating_characteristic) or [precision-recall curve](https://www.geeksforgeeks.org/precision-recall-curve-ml/) may be helpful for this. You can explore this topic as an Optional Extra below."
      ]
    },
    {
      "cell_type": "markdown",
      "metadata": {
        "id": "eOZN3s-Vt-7z"
      },
      "source": [
        "## End\n",
        "\n",
        "In this Project, I...\n",
        "- split your dataset into training, validation and testing sets for good experimental practice\n",
        "- built a single classifier using a single `if` statement\n",
        "- evaluated  classifier using the standard classification metrics: accuracy, precision, recall and F1\n",
        "- used scikit-learn to build a classifier\n",
        "- tuned hyperparameters to improve performance while evaluating on the validation dataset\n",
        "- learnt that the test set should only be used for final evaluation, and not ever for tuning your approach\n"
      ]
    },
    {
      "cell_type": "markdown",
      "metadata": {
        "id": "AdjwRHO2KLEm"
      },
      "source": [
        "## Optional Extras\n",
        "\n",
        "- The standard spaCy model is good for \"normal\" English but may not be the best for scientific English. There is a science-version of spaCy, known as [scispacy](https://allenai.github.io/scispacy/). Try out the `en_core_sci_sm` model from [scispacy](https://allenai.github.io/scispacy/). You'll need to install scispacy and the model.\n",
        "- See how well only using the title performs\n",
        "- Try out other hyperparameters, such as bigrams from the vectoriser.\n",
        "- Construct and explore a [Receiver Operating Characteristic (ROC) curve](https://en.wikipedia.org/wiki/Receiver_operating_characteristic) and [precision-recall curve](https://www.geeksforgeeks.org/precision-recall-curve-ml/) for your model, and think about their use for the two deployment settings discussed above. You'll need to get probabilities from your classifier and not just binary predictions. You'll want the `.predict_proba(...)` classifier function along with the [roc_curve](https://scikit-learn.org/stable/modules/generated/sklearn.metrics.roc_curve.html) and [precision_recall_curve](https://scikit-learn.org/stable/modules/generated/sklearn.metrics.precision_recall_curve.html) functions. You then need to plot it. Here's some info on [line plotting with Matplotlib](https://jakevdp.github.io/PythonDataScienceHandbook/04.01-simple-line-plots.html).\n",
        "- If you're game for it, do the error analysis, look at some mistakenly misclassified documents and see if you can spot any patterns. If you do, let us know!"
      ]
    }
  ],
  "metadata": {
    "colab": {
      "provenance": []
    },
    "kernelspec": {
      "display_name": "Python 3",
      "name": "python3"
    },
    "language_info": {
      "name": "python"
    }
  },
  "nbformat": 4,
  "nbformat_minor": 0
}
